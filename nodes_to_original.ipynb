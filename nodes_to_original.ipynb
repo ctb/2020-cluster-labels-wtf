{
 "cells": [
  {
   "cell_type": "code",
   "execution_count": 31,
   "metadata": {},
   "outputs": [],
   "source": [
    "%matplotlib inline"
   ]
  },
  {
   "cell_type": "code",
   "execution_count": 32,
   "metadata": {},
   "outputs": [],
   "source": [
    "from sourmash import fig\n",
    "import scipy.cluster.hierarchy as sch"
   ]
  },
  {
   "cell_type": "code",
   "execution_count": 33,
   "metadata": {},
   "outputs": [
    {
     "name": "stdout",
     "output_type": "stream",
     "text": [
      "\u001b[K\n",
      "== This is sourmash version 3.2.1.dev7+g5d096233. ==\n",
      "\u001b[K== Please cite Brown and Irber (2016), doi:10.21105/joss.00027. ==\n",
      "\n",
      "\u001b[Kloaded 3 signatures total.                                                     \n",
      "\u001b[K\n",
      "0-1.fa.gz           \t[1.   0.   0.35]\n",
      "1-2.fa.gz           \t[0. 1. 0.]\n",
      "2-5.fa.gz           \t[0.35 0.   1.  ]\n",
      "min similarity in matrix: 0.000\n",
      "\u001b[Ksaving labels to: 1-2-5.cmp.labels.txt\n",
      "\u001b[Ksaving distance matrix to: 1-2-5.cmp\n",
      "\u001b[K\n",
      "== This is sourmash version 3.2.1.dev7+g5d096233. ==\n",
      "\u001b[K== Please cite Brown and Irber (2016), doi:10.21105/joss.00027. ==\n",
      "\n",
      "\u001b[Kloaded 5 signatures total.                                                     \n",
      "\u001b[K\n",
      "0-1.fa.gz           \t[1.   0.   0.   0.   0.35]\n",
      "1-2.fa.gz           \t[0.    1.    0.03  0.048 0.   ]\n",
      "2-3.fa.gz           \t[0.   0.03 1.   0.39 0.  ]\n",
      "3-4.fa.gz           \t[0.    0.048 0.39  1.    0.   ]\n",
      "4-5.fa.gz           \t[0.35 0.   0.   0.   1.  ]\n",
      "min similarity in matrix: 0.000\n",
      "\u001b[Ksaving labels to: 1-2-3-4-5.cmp.labels.txt\n",
      "\u001b[Ksaving distance matrix to: 1-2-3-4-5.cmp\n"
     ]
    }
   ],
   "source": [
    "!sourmash compare {{1,2,5}}.fa.gz.sig -o 1-2-5.cmp\n",
    "!sourmash compare {{1,2,3,4,5}}.fa.gz.sig -o 1-2-3-4-5.cmp"
   ]
  },
  {
   "cell_type": "markdown",
   "metadata": {},
   "source": [
    "## 1-2-5"
   ]
  },
  {
   "cell_type": "code",
   "execution_count": 34,
   "metadata": {},
   "outputs": [
    {
     "data": {
      "text/plain": [
       "array([[1.  , 0.  , 0.35],\n",
       "       [0.  , 1.  , 0.  ],\n",
       "       [0.35, 0.  , 1.  ]])"
      ]
     },
     "execution_count": 34,
     "metadata": {},
     "output_type": "execute_result"
    }
   ],
   "source": [
    "D, labeltext = fig.load_matrix_and_labels('1-2-5.cmp')\n",
    "D"
   ]
  },
  {
   "cell_type": "code",
   "execution_count": 35,
   "metadata": {},
   "outputs": [
    {
     "data": {
      "text/plain": [
       "array([[0.        , 2.        , 0.91923882, 2.        ],\n",
       "       [1.        , 3.        , 1.45688023, 3.        ]])"
      ]
     },
     "execution_count": 35,
     "metadata": {},
     "output_type": "execute_result"
    }
   ],
   "source": [
    "Y = sch.linkage(D, method='single')\n",
    "Y"
   ]
  },
  {
   "cell_type": "code",
   "execution_count": 55,
   "metadata": {},
   "outputs": [
    {
     "data": {
      "image/png": "[encoded data removed]",
      "text/plain": [
       "<Figure size 432x288 with 1 Axes>"
      ]
     },
     "metadata": {
      "needs_background": "light"
     },
     "output_type": "display_data"
    }
   ],
   "source": [
    "Z = sch.dendrogram(Y, orientation='top', labels=labeltext)"
   ]
  },
  {
   "cell_type": "code",
   "execution_count": 38,
   "metadata": {},
   "outputs": [
    {
     "data": {
      "text/plain": [
       "['2.fa.gz', '1.fa.gz', '5.fa.gz']"
      ]
     },
     "execution_count": 38,
     "metadata": {},
     "output_type": "execute_result"
    }
   ],
   "source": [
    "Z['ivl']"
   ]
  },
  {
   "cell_type": "code",
   "execution_count": 52,
   "metadata": {},
   "outputs": [
    {
     "name": "stdout",
     "output_type": "stream",
     "text": [
      "0\n",
      "1\n",
      "2\n"
     ]
    }
   ],
   "source": [
    "rootnode, nodelist = sch.to_tree(Y, True)\n",
    "for node, _ in zip(nodelist, range(3)):\n",
    "    print(node.get_id())"
   ]
  },
  {
   "cell_type": "markdown",
   "metadata": {},
   "source": [
    "## 1-2-3-4-5"
   ]
  },
  {
   "cell_type": "code",
   "execution_count": 39,
   "metadata": {},
   "outputs": [
    {
     "data": {
      "text/plain": [
       "array([[1.   , 0.   , 0.   , 0.   , 0.35 ],\n",
       "       [0.   , 1.   , 0.03 , 0.048, 0.   ],\n",
       "       [0.   , 0.03 , 1.   , 0.39 , 0.   ],\n",
       "       [0.   , 0.048, 0.39 , 1.   , 0.   ],\n",
       "       [0.35 , 0.   , 0.   , 0.   , 1.   ]])"
      ]
     },
     "execution_count": 39,
     "metadata": {},
     "output_type": "execute_result"
    }
   ],
   "source": [
    "D2, labeltext2 = fig.load_matrix_and_labels('1-2-3-4-5.cmp')\n",
    "D2"
   ]
  },
  {
   "cell_type": "code",
   "execution_count": 40,
   "metadata": {},
   "outputs": [
    {
     "data": {
      "text/plain": [
       "array([[2.        , 3.        , 0.86285804, 2.        ],\n",
       "       [0.        , 4.        , 0.91923882, 2.        ],\n",
       "       [1.        , 5.        , 1.39363123, 3.        ],\n",
       "       [6.        , 7.        , 1.45797942, 5.        ]])"
      ]
     },
     "execution_count": 40,
     "metadata": {},
     "output_type": "execute_result"
    }
   ],
   "source": [
    "Y2 = sch.linkage(D2, method='single')\n",
    "Y2"
   ]
  },
  {
   "cell_type": "code",
   "execution_count": 54,
   "metadata": {},
   "outputs": [
    {
     "data": {
      "image/png": "[encoded data removed]",
      "text/plain": [
       "<Figure size 432x288 with 1 Axes>"
      ]
     },
     "metadata": {
      "needs_background": "light"
     },
     "output_type": "display_data"
    }
   ],
   "source": [
    "Z2 = sch.dendrogram(Y2, orientation='top', labels=labeltext2)"
   ]
  },
  {
   "cell_type": "code",
   "execution_count": 57,
   "metadata": {},
   "outputs": [
    {
     "data": {
      "text/plain": [
       "['1.fa.gz', '5.fa.gz', '2.fa.gz', '3.fa.gz', '4.fa.gz']"
      ]
     },
     "execution_count": 57,
     "metadata": {},
     "output_type": "execute_result"
    }
   ],
   "source": [
    "Z2['ivl']"
   ]
  },
  {
   "cell_type": "code",
   "execution_count": 62,
   "metadata": {},
   "outputs": [
    {
     "name": "stdout",
     "output_type": "stream",
     "text": [
      "obs: 0\n",
      "obs: 1\n",
      "obs: 2\n",
      "obs: 3\n",
      "obs: 4\n",
      "cluster 5 2 3\n",
      "** left: 3.fa.gz\n",
      "** right: 4.fa.gz\n",
      "cluster 6 0 4\n",
      "** left: 1.fa.gz\n",
      "** right: 5.fa.gz\n",
      "cluster 7 1 5\n",
      "** left: 2.fa.gz\n",
      "cluster 8 6 7\n"
     ]
    }
   ],
   "source": [
    "rootnode2, nodelist2 = sch.to_tree(Y2, True)\n",
    "    \n",
    "for node in nodelist2:\n",
    "    if node.is_leaf():\n",
    "        print('obs:', node.get_id())\n",
    "    else:\n",
    "        l_id = node.get_left().get_id()\n",
    "        r_id = node.get_right().get_id()\n",
    "        print('cluster', node.get_id(), node.get_left().get_id(), node.get_right().get_id())\n",
    "        if l_id < len(labeltext2):\n",
    "            print('** left:', labeltext2[l_id])\n",
    "        if r_id < len(labeltext2):\n",
    "            print('** right:', labeltext2[r_id])\n"
   ]
  },
  {
   "cell_type": "markdown",
   "metadata": {},
   "source": [
    "Conclusion: the IDs in the linkage matrix are indeed indices into the original observations."
   ]
  },
  {
   "cell_type": "code",
   "execution_count": null,
   "metadata": {},
   "outputs": [],
   "source": []
  }
 ],
 "metadata": {
  "kernelspec": {
   "display_name": "Python (myenv)",
   "language": "python",
   "name": "myenv"
  },
  "language_info": {
   "codemirror_mode": {
    "name": "ipython",
    "version": 3
   },
   "file_extension": ".py",
   "mimetype": "text/x-python",
   "name": "python",
   "nbconvert_exporter": "python",
   "pygments_lexer": "ipython3",
   "version": "3.7.6"
  }
 },
 "nbformat": 4,
 "nbformat_minor": 4
}
